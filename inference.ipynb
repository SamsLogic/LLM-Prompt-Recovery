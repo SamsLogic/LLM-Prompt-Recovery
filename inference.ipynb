{
 "cells": [
  {
   "cell_type": "code",
   "execution_count": null,
   "metadata": {},
   "outputs": [],
   "source": [
    "import pandas as pd\n",
    "import os\n",
    "import torch\n",
    "from transformers import AutoTokenizer, AutoModelForCausalLM\n",
    "from peft import PeftModel\n",
    "\n",
    "# torch seed\n",
    "torch.manual_seed(42)"
   ]
  },
  {
   "cell_type": "code",
   "execution_count": null,
   "metadata": {},
   "outputs": [],
   "source": [
    "TEST_DATA_PATH = 'test_set.csv'\n",
    "test_data = pd.read_csv(TEST_DATA_PATH)"
   ]
  },
  {
   "cell_type": "code",
   "execution_count": null,
   "metadata": {},
   "outputs": [],
   "source": [
    "model_id = 'google/gemma-2b-it'\n",
    "new_model = 'gemma-Finetune-test'"
   ]
  },
  {
   "cell_type": "code",
   "execution_count": null,
   "metadata": {},
   "outputs": [],
   "source": [
    "tokenizer = AutoTokenizer.from_pretrained(model_id)\n",
    "tokenizer.padding_side = \"right\""
   ]
  },
  {
   "cell_type": "code",
   "execution_count": null,
   "metadata": {},
   "outputs": [],
   "source": [
    "base_model = AutoModelForCausalLM.from_pretrained(\n",
    "    model_id,\n",
    "    low_cpu_mem_usage=True,\n",
    "    return_dict=True,\n",
    "    torch_dtype=torch.float16,\n",
    "    device_map={\"\": 0},\n",
    ")\n",
    "merged_model= PeftModel.from_pretrained(base_model, new_model)\n",
    "merged_model= merged_model.merge_and_unload()\n",
    "merged_model.eval()"
   ]
  },
  {
   "cell_type": "code",
   "execution_count": null,
   "metadata": {},
   "outputs": [],
   "source": [
    "def prepare_prompt_tempalte_test(input_text, output_text):\n",
    "    prompt_template = \"\"\"<start_of_turn>user\\nThis is the original text: {input_text}, this is the rewritten text: {output_text}. Which prompt was used to rewrite the original text to the rewritten text?<end_of_turn>\\n<start_of_turn>model\\n\"\"\"\n",
    "    return prompt_template.format(input_text=input_text, output_text=output_text)\n",
    "\n",
    "def get_completion(input_text: str, output_text: str, model, tokenizer) -> str:\n",
    "  device = \"cuda:0\"\n",
    "  \n",
    "  prompt = prepare_prompt_tempalte_test(input_text=input_text, output_text=output_text)\n",
    "  encodeds = tokenizer(prompt, return_tensors=\"pt\", add_special_tokens=True)\n",
    "  model_inputs = encodeds.to(device)\n",
    "  \n",
    "  generated_ids = model.generate(**model_inputs, max_new_tokens=100, do_sample=True, top_k=1, temperature=0.01, pad_token_id=tokenizer.eos_token_id, eos_token_id=tokenizer.encode(\"\\n\"))\n",
    "  # decoded = tokenizer.batch_decode(generated_ids)\n",
    "  decoded = tokenizer.decode(*generated_ids, skip_special_tokens=False)\n",
    "  decoded = decoded.replace(f\"<bos>{prompt}\", \"\")\n",
    "  decoded = decoded.replace(f\"<end_of_turn>\", \"\")\n",
    "  return decoded\n",
    "\n",
    "result = get_completion(input_text=test_data['text'][1], output_text=test_data['rewritten_text'][1], model=merged_model, tokenizer=tokenizer)\n",
    "print(\"original Prompt:\", test_data['prompt'][1])\n",
    "print(\"Generated Prompt:\", result)"
   ]
  },
  {
   "cell_type": "code",
   "execution_count": null,
   "metadata": {},
   "outputs": [],
   "source": [
    "test_data = test_data[:10]"
   ]
  },
  {
   "cell_type": "code",
   "execution_count": null,
   "metadata": {},
   "outputs": [],
   "source": [
    "result = []\n",
    "for i in range(0, len(test_data)):\n",
    "    out = get_completion(input_text=test_data['text'][i], output_text=test_data['rewritten_text'][i], model=merged_model, tokenizer=tokenizer)\n",
    "    result.append(out)"
   ]
  },
  {
   "cell_type": "code",
   "execution_count": null,
   "metadata": {},
   "outputs": [],
   "source": [
    "test_data['rewrite_prompt'] = result"
   ]
  },
  {
   "cell_type": "code",
   "execution_count": null,
   "metadata": {},
   "outputs": [],
   "source": [
    "test_data['id'] = test_data.index"
   ]
  },
  {
   "cell_type": "code",
   "execution_count": null,
   "metadata": {},
   "outputs": [],
   "source": [
    "sub_df = test_data[['id', 'rewrite_prompt']]\n",
    "sub_df.to_csv('submission.csv', index=False)"
   ]
  },
  {
   "cell_type": "code",
   "execution_count": null,
   "metadata": {},
   "outputs": [],
   "source": []
  }
 ],
 "metadata": {
  "kernelspec": {
   "display_name": "venv2",
   "language": "python",
   "name": "python3"
  },
  "language_info": {
   "codemirror_mode": {
    "name": "ipython",
    "version": 3
   },
   "file_extension": ".py",
   "mimetype": "text/x-python",
   "name": "python",
   "nbconvert_exporter": "python",
   "pygments_lexer": "ipython3",
   "version": "3.9.13"
  }
 },
 "nbformat": 4,
 "nbformat_minor": 2
}
